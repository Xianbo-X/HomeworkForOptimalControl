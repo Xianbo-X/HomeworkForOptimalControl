{
 "cells": [
  {
   "cell_type": "code",
   "execution_count": 2,
   "id": "4e675ef9",
   "metadata": {},
   "outputs": [
    {
     "name": "stdout",
     "output_type": "stream",
     "text": [
      "ans =\n",
      "     2\n",
      "ans =\n",
      "     3\n",
      "\n"
     ]
    }
   ],
   "source": [
    "format compact\n",
    "for i=1:2\n",
    "    i+1\n",
    "end"
   ]
  },
  {
   "cell_type": "code",
   "execution_count": 3,
   "id": "7e51b69a",
   "metadata": {},
   "outputs": [
    {
     "name": "stdout",
     "output_type": "stream",
     "text": [
      "\n"
     ]
    }
   ],
   "source": [
    "costupdown      = 10; % cost of lifting the pen and of lowering the pen as well\n",
    "indDestination  = 1;  % for letter 'A' can be any number between 1 and 6 is allowed since 'A' has 6 control points\n",
    "[ctrpoints,links] = getcontrolpoints('A');"
   ]
  },
  {
   "cell_type": "code",
   "execution_count": 34,
   "id": "3b8c8a32",
   "metadata": {},
   "outputs": [
    {
     "name": "stdout",
     "output_type": "stream",
     "text": [
      "\n"
     ]
    }
   ],
   "source": [
    "[costM,path] = costToDestinationletter(ctrpoints,links,costupdown,indDestination);"
   ]
  },
  {
   "cell_type": "code",
   "execution_count": 35,
   "id": "145b462c",
   "metadata": {},
   "outputs": [
    {
     "name": "stdout",
     "output_type": "stream",
     "text": [
      "costM =\n",
      "       10000\n",
      "       10000\n",
      "       10000\n",
      "       10000\n",
      "       10000\n",
      "       10000\n",
      "\n"
     ]
    }
   ],
   "source": [
    "costM"
   ]
  },
  {
   "cell_type": "code",
   "execution_count": null,
   "id": "0aed9a69",
   "metadata": {},
   "outputs": [],
   "source": []
  }
 ],
 "metadata": {
  "kernelspec": {
   "display_name": "Matlab",
   "language": "matlab",
   "name": "matlab"
  },
  "language_info": {
   "codemirror_mode": "octave",
   "file_extension": ".m",
   "help_links": [
    {
     "text": "MetaKernel Magics",
     "url": "https://metakernel.readthedocs.io/en/latest/source/README.html"
    }
   ],
   "mimetype": "text/x-octave",
   "name": "matlab",
   "version": "0.16.11"
  }
 },
 "nbformat": 4,
 "nbformat_minor": 5
}
